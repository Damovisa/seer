{
 "cells": [
  {
   "cell_type": "code",
   "execution_count": 1,
   "metadata": {},
   "outputs": [
    {
     "name": "stdout",
     "output_type": "stream",
     "text": [
      "Azure ML SDK Version:  1.0.53\n"
     ]
    }
   ],
   "source": [
    "from azureml.core import Workspace, Experiment, Datastore\n",
    "from azureml.data.data_reference import DataReference\n",
    "from azureml.core.compute import ComputeTarget, AmlCompute\n",
    "from azureml.pipeline.core import Pipeline, PipelineData, PipelineParameter\n",
    "from azureml.pipeline.steps import PythonScriptStep, EstimatorStep\n",
    "from azureml.widgets import RunDetails\n",
    "from azureml.train.estimator import Estimator\n",
    "import os\n",
    "\n",
    "print(\"Azure ML SDK Version: \", azureml.core.VERSION)"
   ]
  },
  {
   "cell_type": "markdown",
   "metadata": {},
   "source": [
    "# Register the Data Store\n",
    "First, we need to register the data store to use\n",
    "\n",
    "We'll set variables here, but the storage account key should be private, so we'll get that from environment variables :)"
   ]
  },
  {
   "cell_type": "code",
   "execution_count": 3,
   "metadata": {},
   "outputs": [],
   "source": [
    "# Uncomment to set ENV variable\n",
    "#os.environ['STORAGE_ACCOUNT_KEY'] = ''"
   ]
  },
  {
   "cell_type": "code",
   "execution_count": 4,
   "metadata": {},
   "outputs": [
    {
     "name": "stdout",
     "output_type": "stream",
     "text": [
      "Set variables:  damoseerdata / seer-container  in  damoaimlstorage  with  88  character key.\n"
     ]
    }
   ],
   "source": [
    "# Set Variables for registering the data store\n",
    "datastorename='damoseerdata'\n",
    "containername='seer-container'\n",
    "storageaccountname='damoaimlstorage'\n",
    "storageaccountkey=os.environ.get('STORAGE_ACCOUNT_KEY')\n",
    "\n",
    "print ('Set variables: ', datastorename, '/', containername, ' in ', storageaccountname, ' with ', len(storageaccountkey), ' character key.')"
   ]
  },
  {
   "cell_type": "code",
   "execution_count": 6,
   "metadata": {},
   "outputs": [
    {
     "name": "stdout",
     "output_type": "stream",
     "text": [
      "{'workspaceblobstore': <azureml.data.azure_storage_datastore.AzureBlobDatastore object at 0x11f0eeb38>, 'workspacefilestore': <azureml.data.azure_storage_datastore.AzureFileDatastore object at 0x11f1220b8>, 'damoseerdata': <azureml.data.azure_storage_datastore.AzureBlobDatastore object at 0x11f1671d0>}\n"
     ]
    }
   ],
   "source": [
    "# Get the workspace\n",
    "ws = Workspace.from_config(\n",
    "    path='./azureml-config.json')\n",
    "print(ws.datastores)"
   ]
  },
  {
   "cell_type": "code",
   "execution_count": 9,
   "metadata": {},
   "outputs": [
    {
     "name": "stdout",
     "output_type": "stream",
     "text": [
      "Unregistering existing datastore\n",
      "Datastore registered:  <azureml.data.azure_storage_datastore.AzureBlobDatastore object at 0x11f167128>\n"
     ]
    }
   ],
   "source": [
    "# See if that datastore already exists and unregister it if so\n",
    "try:\n",
    "    datastore = ws.datastores[datastorename]\n",
    "    print ('Unregistering existing datastore')\n",
    "    datastore.unregister()\n",
    "except:\n",
    "    print ('Data store doesn\\'t exist, no need to remove')\n",
    "finally:\n",
    "    # register the datastore\n",
    "    datastore = Datastore.register_azure_blob_container(workspace=ws, \n",
    "                                                        datastore_name=datastorename, \n",
    "                                                        container_name=containername,\n",
    "                                                        account_name=storageaccountname, \n",
    "                                                        account_key=storageaccountkey,\n",
    "                                                        create_if_not_exists=True)\n",
    "\n",
    "print('Datastore registered: ', datastore)"
   ]
  }
 ],
 "metadata": {
  "kernelspec": {
   "display_name": "Python 3",
   "language": "python",
   "name": "python3"
  },
  "language_info": {
   "codemirror_mode": {
    "name": "ipython",
    "version": 3
   },
   "file_extension": ".py",
   "mimetype": "text/x-python",
   "name": "python",
   "nbconvert_exporter": "python",
   "pygments_lexer": "ipython3",
   "version": "3.7.3"
  }
 },
 "nbformat": 4,
 "nbformat_minor": 2
}
